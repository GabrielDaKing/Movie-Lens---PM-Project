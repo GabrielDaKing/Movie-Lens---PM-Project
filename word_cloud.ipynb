{
 "cells": [
  {
   "cell_type": "code",
   "execution_count": 45,
   "metadata": {},
   "outputs": [],
   "source": [
    "import pandas as pd\n",
    "from PIL import Image\n",
    "import matplotlib.pyplot as plt\n",
    "from wordcloud import WordCloud"
   ]
  },
  {
   "cell_type": "code",
   "execution_count": 25,
   "metadata": {},
   "outputs": [],
   "source": [
    "#import of review data\n",
    "cols = [\"user id\",\"item id\",\"rating\",\"timestamp\"]\n",
    "#encoding using ISO-8859-1 is used because utf-8 does not support all the characters in movie names\n",
    "df_data = pd.read_csv(\"ml-100k/u.data\",sep=\"\\t\",names=cols,header=None,encoding=\"ISO-8859-1\")"
   ]
  },
  {
   "cell_type": "code",
   "execution_count": 26,
   "metadata": {},
   "outputs": [],
   "source": [
    "#import of moviedata\n",
    "cols = [\"movie id\",\n",
    "        \"movie title\",\n",
    "        \"release date\",\n",
    "        \"video release date\",\n",
    "        \"IMDb URL\",\"unknown\",\n",
    "        \"Action\",\n",
    "        \"Adventure\",\n",
    "        \"Animation\",\n",
    "        \"Children's\",\n",
    "        \"Comedy\",\n",
    "        \"Crime\",\n",
    "        \"Documentary\",\n",
    "        \"Drama\",\n",
    "        \"Fantasy\",\n",
    "        \"Film-Noir\",\n",
    "        \"Horror\",\n",
    "        \"Musical\",\n",
    "        \"Mystery\",\n",
    "        \"Romance\",\n",
    "        \"Sci-Fi\",\n",
    "        \"Thriller\",\n",
    "        \"War\",\n",
    "        \"Western\"]\n",
    "\n",
    "df_movie = pd.read_csv(\"ml-100k/u.item\",sep=\"|\",names=cols,header=None,encoding=\"ISO-8859-1\")"
   ]
  },
  {
   "cell_type": "code",
   "execution_count": 27,
   "metadata": {},
   "outputs": [],
   "source": [
    "#import of user data\n",
    "cols = [\"user id\",\"age\",\"gender\",\"occupation\",\"zip code\"]\n",
    "df_user = pd.read_csv(\"ml-100k/u.user\",sep=\"|\",names=cols,header=None,encoding=\"ISO-8859-1\")"
   ]
  },
  {
   "cell_type": "code",
   "execution_count": 28,
   "metadata": {},
   "outputs": [
    {
     "data": {
      "text/plain": [
       "(6.0, 20.0]     109\n",
       "(23.0, 26.0]    105\n",
       "(35.0, 40.0]    100\n",
       "(31.0, 35.0]     98\n",
       "(29.0, 31.0]     96\n",
       "(40.0, 46.0]     94\n",
       "(46.0, 51.0]     93\n",
       "(20.0, 23.0]     92\n",
       "(51.0, 73.0]     85\n",
       "(26.0, 29.0]     71\n",
       "Name: age_group, dtype: int64"
      ]
     },
     "execution_count": 28,
     "metadata": {},
     "output_type": "execute_result"
    }
   ],
   "source": [
    "#frequency binning the ages into age groups as it will be easier for future analysis\n",
    "df_user['age_group'] = pd.qcut(df_user['age'],q=10,precision=0)\n",
    "\n",
    "#the bins are of unequal size due to repeating values in a bin\n",
    "df_user['age_group'].value_counts()"
   ]
  },
  {
   "cell_type": "code",
   "execution_count": 29,
   "metadata": {},
   "outputs": [
    {
     "data": {
      "text/plain": [
       "Action         251\n",
       "Adventure      135\n",
       "Animation       42\n",
       "Children's     122\n",
       "Comedy         505\n",
       "Crime          109\n",
       "Documentary     50\n",
       "Drama          725\n",
       "Fantasy         22\n",
       "Film-Noir       24\n",
       "Horror          92\n",
       "Musical         56\n",
       "Mystery         61\n",
       "Romance        247\n",
       "Sci-Fi         101\n",
       "Thriller       251\n",
       "War             71\n",
       "Western         27\n",
       "dtype: int64"
      ]
     },
     "execution_count": 29,
     "metadata": {},
     "output_type": "execute_result"
    }
   ],
   "source": [
    "df_movie.drop([\"movie id\",\n",
    "               \"movie title\",\n",
    "               \"release date\",\n",
    "               \"video release date\",\n",
    "               \"IMDb URL\",\n",
    "               \"unknown\"],axis=1).sum(axis = 0, skipna = True)"
   ]
  },
  {
   "cell_type": "code",
   "execution_count": 30,
   "metadata": {},
   "outputs": [],
   "source": [
    "df = pd.merge(pd.merge(df_data,\n",
    "                  df_user[[\"user id\",\n",
    "                           \"age\",\n",
    "                           \"gender\",\n",
    "                           \"occupation\"]],\n",
    "                  on='user id',\n",
    "                  how='left'),\n",
    "              df_movie,\n",
    "              left_on = 'item id',\n",
    "              right_on = 'movie id',\n",
    "              how ='left')"
   ]
  },
  {
   "cell_type": "code",
   "execution_count": 31,
   "metadata": {},
   "outputs": [],
   "source": [
    "df_genre = df[[\"rating\",\n",
    "                \"Action\",\n",
    "                \"Adventure\",\n",
    "               \"Animation\",\n",
    "               \"Children's\",\n",
    "                \"Comedy\",\n",
    "                \"Crime\",\n",
    "                \"Documentary\",\n",
    "                \"Drama\",\n",
    "                \"Fantasy\",\n",
    "                \"Film-Noir\",\n",
    "                \"Horror\",\n",
    "                \"Musical\",\n",
    "                \"Mystery\",\n",
    "                \"Romance\",\n",
    "                \"Sci-Fi\",\n",
    "                \"Thriller\",\n",
    "                \"War\",\n",
    "                \"Western\"]]"
   ]
  },
  {
   "cell_type": "code",
   "execution_count": 32,
   "metadata": {},
   "outputs": [],
   "source": [
    "def select_genre(row):\n",
    "    for key,value in row.items():\n",
    "        if value==1:\n",
    "            return key"
   ]
  },
  {
   "cell_type": "code",
   "execution_count": 33,
   "metadata": {},
   "outputs": [
    {
     "name": "stderr",
     "output_type": "stream",
     "text": [
      "D:\\Anaconda\\lib\\site-packages\\ipykernel_launcher.py:1: SettingWithCopyWarning: \n",
      "A value is trying to be set on a copy of a slice from a DataFrame.\n",
      "Try using .loc[row_indexer,col_indexer] = value instead\n",
      "\n",
      "See the caveats in the documentation: https://pandas.pydata.org/pandas-docs/stable/user_guide/indexing.html#returning-a-view-versus-a-copy\n",
      "  \"\"\"Entry point for launching an IPython kernel.\n",
      "D:\\Anaconda\\lib\\site-packages\\pandas\\core\\frame.py:3997: SettingWithCopyWarning: \n",
      "A value is trying to be set on a copy of a slice from a DataFrame\n",
      "\n",
      "See the caveats in the documentation: https://pandas.pydata.org/pandas-docs/stable/user_guide/indexing.html#returning-a-view-versus-a-copy\n",
      "  errors=errors,\n"
     ]
    }
   ],
   "source": [
    "df_genre['genre']= df_genre.apply(lambda row: select_genre(row.iloc[1:]),axis=1)\n",
    "df_genre.drop([\"Action\",\n",
    "                   \"Adventure\",\n",
    "                   \"Animation\",\n",
    "                   \"Children's\",\n",
    "                   \"Comedy\",\n",
    "                   \"Crime\",\n",
    "                   \"Documentary\",\n",
    "                   \"Drama\",\n",
    "                   \"Fantasy\",\n",
    "                   \"Film-Noir\",\n",
    "                   \"Horror\",\n",
    "                   \"Musical\",\n",
    "                   \"Mystery\",\n",
    "                   \"Romance\",\n",
    "                   \"Sci-Fi\",\n",
    "                   \"Thriller\",\n",
    "                   \"War\",\n",
    "                   \"Western\"],\n",
    "                 inplace=True,\n",
    "                 axis=1)"
   ]
  },
  {
   "cell_type": "code",
   "execution_count": 36,
   "metadata": {},
   "outputs": [
    {
     "name": "stdout",
     "output_type": "stream",
     "text": [
      "          genre    rating\n",
      "0        Action  3.480245\n",
      "1     Adventure  3.515081\n",
      "2     Animation  3.634734\n",
      "3    Children's  3.169730\n",
      "4        Comedy  3.398842\n",
      "5         Crime  3.707298\n",
      "6   Documentary  3.673712\n",
      "7         Drama  3.684288\n",
      "8       Fantasy  1.000000\n",
      "9     Film-Noir  4.064229\n",
      "10       Horror  3.234555\n",
      "11      Musical  3.696845\n",
      "12      Mystery  3.666246\n",
      "13      Romance  3.396635\n",
      "14       Sci-Fi  3.454699\n",
      "15     Thriller  3.310786\n",
      "16          War  2.958333\n",
      "17      Western  3.722892\n"
     ]
    }
   ],
   "source": [
    "df_genre_grouped = df_genre.groupby(['genre']).mean().reset_index()\n",
    "\n",
    "print(df_genre_grouped)"
   ]
  },
  {
   "cell_type": "code",
   "execution_count": 41,
   "metadata": {},
   "outputs": [
    {
     "data": {
      "text/plain": [
       "{'Action': 3.480245417953027,\n",
       " 'Adventure': 3.51508120649652,\n",
       " 'Animation': 3.634734239802225,\n",
       " \"Children's\": 3.1697301525224875,\n",
       " 'Comedy': 3.3988419020880856,\n",
       " 'Crime': 3.707297514033681,\n",
       " 'Documentary': 3.673712021136063,\n",
       " 'Drama': 3.6842883548983365,\n",
       " 'Fantasy': 1.0,\n",
       " 'Film-Noir': 4.0642292490118574,\n",
       " 'Horror': 3.2345553292600138,\n",
       " 'Musical': 3.6968449931412892,\n",
       " 'Mystery': 3.6662460567823345,\n",
       " 'Romance': 3.3966346153846154,\n",
       " 'Sci-Fi': 3.4546994072819643,\n",
       " 'Thriller': 3.3107861060329067,\n",
       " 'War': 2.9583333333333335,\n",
       " 'Western': 3.7228915662650603}"
      ]
     },
     "execution_count": 41,
     "metadata": {},
     "output_type": "execute_result"
    }
   ],
   "source": [
    "df_dict = dict()\n",
    "\n",
    "for index,row in df_genre_grouped.iterrows():\n",
    "    df_dict[row[0]]=row[1]\n",
    "    \n",
    "df_dict"
   ]
  },
  {
   "cell_type": "code",
   "execution_count": 55,
   "metadata": {},
   "outputs": [
    {
     "data": {
      "text/plain": [
       "<matplotlib.image.AxesImage at 0x1ff886e9b88>"
      ]
     },
     "execution_count": 55,
     "metadata": {},
     "output_type": "execute_result"
    },
    {
     "data": {
      "image/png": "[encoded data removed]",
      "text/plain": [
       "<Figure size 432x288 with 1 Axes>"
      ]
     },
     "metadata": {
      "needs_background": "light"
     },
     "output_type": "display_data"
    }
   ],
   "source": [
    "wc = WordCloud(background_color=\"white\",width=10000,height=5000, max_words=18,relative_scaling=1,normalize_plurals=False).generate_from_frequencies(df_dict)\n",
    "plt.imshow(wc)"
   ]
  },
  {
   "cell_type": "code",
   "execution_count": null,
   "metadata": {},
   "outputs": [],
   "source": []
  }
 ],
 "metadata": {
  "kernelspec": {
   "display_name": "Python 3",
   "language": "python",
   "name": "python3"
  },
  "language_info": {
   "codemirror_mode": {
    "name": "ipython",
    "version": 3
   },
   "file_extension": ".py",
   "mimetype": "text/x-python",
   "name": "python",
   "nbconvert_exporter": "python",
   "pygments_lexer": "ipython3",
   "version": "3.7.6"
  }
 },
 "nbformat": 4,
 "nbformat_minor": 4
}
