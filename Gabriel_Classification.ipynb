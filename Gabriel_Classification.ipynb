{
 "cells": [
  {
   "cell_type": "code",
   "execution_count": 53,
   "metadata": {},
   "outputs": [],
   "source": [
    "import pandas as pd\n",
    "from sklearn.linear_model import LogisticRegression\n",
    "from sklearn.model_selection import train_test_split\n",
    "from sklearn.ensemble import RandomForestClassifier\n",
    "from sklearn.tree import DecisionTreeClassifier"
   ]
  },
  {
   "cell_type": "code",
   "execution_count": 54,
   "metadata": {},
   "outputs": [],
   "source": [
    "#import of review data\n",
    "cols = [\"user id\",\n",
    "        \"item id\",\n",
    "        \"rating\",\n",
    "        \"timestamp\"]\n",
    "#encoding using ISO-8859-1 is used because utf-8 does not support all the characters in movie names\n",
    "df_data = pd.read_csv(\"ml-100k/u.data\",sep=\"\\t\",names=cols,header=None,encoding=\"ISO-8859-1\")"
   ]
  },
  {
   "cell_type": "code",
   "execution_count": 55,
   "metadata": {},
   "outputs": [],
   "source": [
    "#import of moviedata\n",
    "cols = [\"movie id\",\n",
    "        \"movie title\",\n",
    "        \"release date\",\n",
    "        \"video release date\",\n",
    "        \"IMDb URL\",\n",
    "        \"unknown\",\n",
    "        \"Action\",\n",
    "        \"Adventure\",\n",
    "        \"Animation\",\n",
    "        \"Children's\",\n",
    "        \"Comedy\",\n",
    "        \"Crime\",\n",
    "        \"Documentary\",\n",
    "        \"Drama\",\n",
    "        \"Fantasy\",\n",
    "        \"Film-Noir\",\n",
    "        \"Horror\",\n",
    "        \"Musical\",\n",
    "        \"Mystery\",\n",
    "        \"Romance\",\n",
    "        \"Sci-Fi\",\n",
    "        \"Thriller\",\n",
    "        \"War\",\n",
    "        \"Western\"]\n",
    "\n",
    "df_movie = pd.read_csv(\"ml-100k/u.item\",sep=\"|\",names=cols,header=None,encoding=\"ISO-8859-1\")"
   ]
  },
  {
   "cell_type": "code",
   "execution_count": 56,
   "metadata": {},
   "outputs": [],
   "source": [
    "#import of user data\n",
    "cols = [\"user id\",\n",
    "        \"age\",\n",
    "        \"gender\",\n",
    "        \"occupation\",\n",
    "        \"zip code\"]\n",
    "df_user = pd.read_csv(\"ml-100k/u.user\",sep=\"|\",names=cols,header=None,encoding=\"ISO-8859-1\")"
   ]
  },
  {
   "cell_type": "code",
   "execution_count": 57,
   "metadata": {},
   "outputs": [
    {
     "data": {
      "text/plain": [
       "(6.0, 20.0]     109\n",
       "(23.0, 26.0]    105\n",
       "(35.0, 40.0]    100\n",
       "(31.0, 35.0]     98\n",
       "(29.0, 31.0]     96\n",
       "(40.0, 46.0]     94\n",
       "(46.0, 51.0]     93\n",
       "(20.0, 23.0]     92\n",
       "(51.0, 73.0]     85\n",
       "(26.0, 29.0]     71\n",
       "Name: age_group, dtype: int64"
      ]
     },
     "execution_count": 57,
     "metadata": {},
     "output_type": "execute_result"
    }
   ],
   "source": [
    "#frequency binning the ages into age groups as it will be easier for future analysis\n",
    "df_user['age_group'] = pd.qcut(df_user['age'],q=10,precision=0)\n",
    "\n",
    "#the bins are of unequal size due to repeating values in a bin\n",
    "df_user['age_group'].value_counts()"
   ]
  },
  {
   "cell_type": "code",
   "execution_count": 162,
   "metadata": {},
   "outputs": [],
   "source": [
    "df = pd.merge(pd.merge(df_data,\n",
    "                  df_user[[\"user id\",\n",
    "                           \"age_group\",\n",
    "                           \"gender\",\n",
    "                           \"occupation\"]],\n",
    "                  on='user id',\n",
    "                  how='left'),\n",
    "              df_movie.drop(['IMDb URL'],axis=1),\n",
    "              left_on = 'item id',\n",
    "              right_on = 'movie id',\n",
    "              how ='left')"
   ]
  },
  {
   "cell_type": "code",
   "execution_count": 163,
   "metadata": {},
   "outputs": [],
   "source": [
    "def release_year(row):\n",
    "    return str(row['release date'])[-4:]\n",
    "    \n",
    "def release_month(row):\n",
    "    return str(row['release date'])[3:6]\n",
    "def release_date(row):\n",
    "    return str(row['release date'])[:2]\n",
    "\n",
    "df['release_year'] =  df.apply(lambda row: release_year(row), axis=1)\n",
    "df = df.query(\"release_year != 'nan'\")\n",
    "df['release_year'] = df['release_year'].astype(int)\n",
    "df['release_month'] =  df.apply(lambda row: release_month(row), axis=1)\n",
    "df['release_day'] =  df.apply(lambda row: release_date(row), axis=1)\n",
    "\n",
    "df = df.drop(['release date'],axis=1)"
   ]
  },
  {
   "cell_type": "code",
   "execution_count": 164,
   "metadata": {},
   "outputs": [],
   "source": [
    "df['release_year'] = pd.cut(df['release_year'],bins=20)"
   ]
  },
  {
   "cell_type": "code",
   "execution_count": 165,
   "metadata": {},
   "outputs": [
    {
     "data": {
      "text/plain": [
       "(99991, 24)"
      ]
     },
     "execution_count": 165,
     "metadata": {},
     "output_type": "execute_result"
    }
   ],
   "source": [
    "df.drop(['user id',\n",
    "         'item id',\n",
    "         'timestamp',\n",
    "         'movie id',\n",
    "         'movie title',\n",
    "         'video release date',\n",
    "         'release_day',\n",
    "         'release_month'\n",
    "#          'release_year'\n",
    "        ],\n",
    "       axis=1,\n",
    "       inplace=True)\n",
    "df.shape"
   ]
  },
  {
   "cell_type": "code",
   "execution_count": 166,
   "metadata": {},
   "outputs": [
    {
     "data": {
      "text/plain": [
       "(99990, 24)"
      ]
     },
     "execution_count": 166,
     "metadata": {},
     "output_type": "execute_result"
    }
   ],
   "source": [
    "\n",
    "# df = df.query(\"release_month != ''\")\n",
    "# df = df.query(\"release_month != 'eb-'\")\n",
    "df = df.query(\"unknown != '1'\")\n",
    "df.shape"
   ]
  },
  {
   "cell_type": "code",
   "execution_count": 167,
   "metadata": {},
   "outputs": [],
   "source": [
    "df_dummies = pd.get_dummies(df['age_group'], prefix = 'age_group')\n",
    "df = pd.concat([df, df_dummies], axis=1)\n",
    "df_dummies = pd.get_dummies(df['gender'], prefix = 'gender')\n",
    "df = pd.concat([df, df_dummies], axis=1)\n",
    "df_dummies = pd.get_dummies(df['occupation'], prefix = 'occupation')\n",
    "df = pd.concat([df, df_dummies], axis=1)\n",
    "df_dummies = pd.get_dummies(df['release_year'], prefix = 'release_year')\n",
    "df = pd.concat([df, df_dummies], axis=1)\n",
    "# df_dummies = pd.get_dummies(df['release_month'], prefix = 'release_month')\n",
    "# df = pd.concat([df, df_dummies], axis=1)\n",
    "\n",
    "df.drop(['age_group',\n",
    "         'gender',\n",
    "         'occupation',\n",
    "         'unknown',\n",
    "         'release_year',\n",
    "#          'release_month'\n",
    "        ], \n",
    "        axis=1,\n",
    "        inplace=True)"
   ]
  },
  {
   "cell_type": "code",
   "execution_count": 137,
   "metadata": {},
   "outputs": [
    {
     "name": "stdout",
     "output_type": "stream",
     "text": [
      "rating\n",
      "Action\n",
      "Adventure\n",
      "Animation\n",
      "Children's\n",
      "Comedy\n",
      "Crime\n",
      "Documentary\n",
      "Drama\n",
      "Fantasy\n",
      "Film-Noir\n",
      "Horror\n",
      "Musical\n",
      "Mystery\n",
      "Romance\n",
      "Sci-Fi\n",
      "Thriller\n",
      "War\n",
      "Western\n",
      "age_group_(6.0, 20.0]\n",
      "age_group_(20.0, 23.0]\n",
      "age_group_(23.0, 26.0]\n",
      "age_group_(26.0, 29.0]\n",
      "age_group_(29.0, 31.0]\n",
      "age_group_(31.0, 35.0]\n",
      "age_group_(35.0, 40.0]\n",
      "age_group_(40.0, 46.0]\n",
      "age_group_(46.0, 51.0]\n",
      "age_group_(51.0, 73.0]\n",
      "gender_F\n",
      "gender_M\n",
      "occupation_administrator\n",
      "occupation_artist\n",
      "occupation_doctor\n",
      "occupation_educator\n",
      "occupation_engineer\n",
      "occupation_entertainment\n",
      "occupation_executive\n",
      "occupation_healthcare\n",
      "occupation_homemaker\n",
      "occupation_lawyer\n",
      "occupation_librarian\n",
      "occupation_marketing\n",
      "occupation_none\n",
      "occupation_other\n",
      "occupation_programmer\n",
      "occupation_retired\n",
      "occupation_salesman\n",
      "occupation_scientist\n",
      "occupation_student\n",
      "occupation_technician\n",
      "occupation_writer\n",
      "release_year_(1921.924, 1931.5]\n",
      "release_year_(1931.5, 1941.0]\n",
      "release_year_(1941.0, 1950.5]\n",
      "release_year_(1950.5, 1960.0]\n",
      "release_year_(1960.0, 1969.5]\n",
      "release_year_(1969.5, 1979.0]\n",
      "release_year_(1979.0, 1988.5]\n",
      "release_year_(1988.5, 1998.0]\n"
     ]
    }
   ],
   "source": [
    "for col in df.columns: \n",
    "    print(col) "
   ]
  },
  {
   "cell_type": "code",
   "execution_count": 184,
   "metadata": {},
   "outputs": [],
   "source": [
    "train, test = train_test_split(df, test_size=0.1)\n",
    "\n",
    "y_train = train.rating\n",
    "x_train = train.drop(['rating'],axis=1)\n",
    "y_test = test.rating\n",
    "x_test = test.drop(['rating'],axis=1)\n"
   ]
  },
  {
   "cell_type": "code",
   "execution_count": 188,
   "metadata": {},
   "outputs": [
    {
     "name": "stdout",
     "output_type": "stream",
     "text": [
      "0.36663666366636666\n"
     ]
    }
   ],
   "source": [
    "lr = LogisticRegression(max_iter=1000)\n",
    "lr.fit(x_train,y_train)\n",
    "y_pred= lr.predict(x_test)\n",
    "\n",
    "total = 0\n",
    "correct = 0\n",
    "for i in range(len(y_pred)):\n",
    "    if y_pred[i]==y_test.iloc[i]:\n",
    "        correct+=1\n",
    "    total+=1\n",
    "    \n",
    "print(correct/total)"
   ]
  },
  {
   "cell_type": "code",
   "execution_count": 186,
   "metadata": {},
   "outputs": [
    {
     "name": "stdout",
     "output_type": "stream",
     "text": [
      "0.38323832383238327\n"
     ]
    }
   ],
   "source": [
    "rfm = RandomForestClassifier(n_estimators=50, oob_score=70, n_jobs=-1,\n",
    "                            random_state=101,max_features=None, min_samples_leaf=30)\n",
    "rfm.fit(x_train,y_train)\n",
    "y_pred=rfm.predict(x_test)\n",
    "\n",
    "total = 0\n",
    "correct = 0\n",
    "\n",
    "for i in range(len(y_pred)):\n",
    "    if y_pred[i]==y_test.iloc[i]:\n",
    "        correct+=1\n",
    "    total+=1\n",
    "    \n",
    "print(correct/total)"
   ]
  },
  {
   "cell_type": "code",
   "execution_count": 190,
   "metadata": {},
   "outputs": [
    {
     "name": "stdout",
     "output_type": "stream",
     "text": [
      "0.37003700370037\n"
     ]
    }
   ],
   "source": [
    "dtree = DecisionTreeClassifier(max_depth=100, random_state=101,\n",
    "                              max_features=None, min_samples_leaf=200)\n",
    "dtree.fit(x_train,y_train)\n",
    "y_pred=dtree.predict(x_test)\n",
    "\n",
    "total = 0\n",
    "correct = 0\n",
    "\n",
    "for i in range(len(y_pred)):\n",
    "    if y_pred[i]==y_test.iloc[i]:\n",
    "        correct+=1\n",
    "    total+=1\n",
    "    \n",
    "print(correct/total)"
   ]
  },
  {
   "cell_type": "code",
   "execution_count": null,
   "metadata": {},
   "outputs": [],
   "source": []
  }
 ],
 "metadata": {
  "kernelspec": {
   "display_name": "Python 3",
   "language": "python",
   "name": "python3"
  },
  "language_info": {
   "codemirror_mode": {
    "name": "ipython",
    "version": 3
   },
   "file_extension": ".py",
   "mimetype": "text/x-python",
   "name": "python",
   "nbconvert_exporter": "python",
   "pygments_lexer": "ipython3",
   "version": "3.7.6"
  }
 },
 "nbformat": 4,
 "nbformat_minor": 4
}
