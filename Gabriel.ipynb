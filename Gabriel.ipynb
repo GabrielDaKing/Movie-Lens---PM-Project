{
 "cells": [
  {
   "cell_type": "code",
   "execution_count": 146,
   "metadata": {},
   "outputs": [],
   "source": [
    "import pandas as pd\n"
   ]
  },
  {
   "cell_type": "code",
   "execution_count": 147,
   "metadata": {},
   "outputs": [],
   "source": [
    "#import of review data\n",
    "cols = [\"user id\",\"item id\",\"rating\",\"timestamp\"]\n",
    "#encoding using ISO-8859-1 is used because utf-8 does not support all the characters in movie names\n",
    "df_data = pd.read_csv(\"ml-100k/u.data\",sep=\"\\t\",names=cols,header=None,encoding=\"ISO-8859-1\")"
   ]
  },
  {
   "cell_type": "code",
   "execution_count": null,
   "metadata": {},
   "outputs": [],
   "source": [
    "#verifying the sucessful import of review data\n",
    "print(df_data.head())"
   ]
  },
  {
   "cell_type": "code",
   "execution_count": 148,
   "metadata": {},
   "outputs": [],
   "source": [
    "#import of moviedata\n",
    "cols = [\"movie id\",\n",
    "        \"movie title\",\n",
    "        \"release date\",\n",
    "        \"video release date\",\n",
    "        \"IMDb URL\",\"unknown\",\n",
    "        \"Action\",\n",
    "        \"Adventure\",\n",
    "        \"Animation\",\n",
    "        \"Children's\",\n",
    "        \"Comedy\",\n",
    "        \"Crime\",\n",
    "        \"Documentary\",\n",
    "        \"Drama\",\n",
    "        \"Fantasy\",\n",
    "        \"Film-Noir\",\n",
    "        \"Horror\",\n",
    "        \"Musical\",\n",
    "        \"Mystery\",\n",
    "        \"Romance\",\n",
    "        \"Sci-Fi\",\n",
    "        \"Thriller\",\n",
    "        \"War\",\n",
    "        \"Western\"]\n",
    "\n",
    "df_movie = pd.read_csv(\"ml-100k/u.item\",sep=\"|\",names=cols,header=None,encoding=\"ISO-8859-1\")"
   ]
  },
  {
   "cell_type": "code",
   "execution_count": null,
   "metadata": {},
   "outputs": [],
   "source": [
    "#verifying the sucessful import of movie data\n",
    "print(df_movie.head())"
   ]
  },
  {
   "cell_type": "code",
   "execution_count": 149,
   "metadata": {},
   "outputs": [],
   "source": [
    "#import of user data\n",
    "cols = [\"user id\",\"age\",\"gender\",\"occupation\",\"zip code\"]\n",
    "df_user = pd.read_csv(\"ml-100k/u.user\",sep=\"|\",names=cols,header=None,encoding=\"ISO-8859-1\")"
   ]
  },
  {
   "cell_type": "code",
   "execution_count": null,
   "metadata": {},
   "outputs": [],
   "source": [
    "#verifying the sucessful import of user data\n",
    "print(df_user.head())"
   ]
  },
  {
   "cell_type": "code",
   "execution_count": 150,
   "metadata": {},
   "outputs": [
    {
     "data": {
      "text/plain": [
       "(6.0, 20.0]     109\n",
       "(23.0, 26.0]    105\n",
       "(35.0, 40.0]    100\n",
       "(31.0, 35.0]     98\n",
       "(29.0, 31.0]     96\n",
       "(40.0, 46.0]     94\n",
       "(46.0, 51.0]     93\n",
       "(20.0, 23.0]     92\n",
       "(51.0, 73.0]     85\n",
       "(26.0, 29.0]     71\n",
       "Name: age_group, dtype: int64"
      ]
     },
     "execution_count": 150,
     "metadata": {},
     "output_type": "execute_result"
    }
   ],
   "source": [
    "#frequency binning the ages into age groups as it will be easier for future analysis\n",
    "df_user['age_group'] = pd.qcut(df_user['age'],q=10,precision=0)\n",
    "\n",
    "#the bins are of unequal size due to repeating values in a bin\n",
    "df_user['age_group'].value_counts()"
   ]
  },
  {
   "cell_type": "code",
   "execution_count": 151,
   "metadata": {},
   "outputs": [
    {
     "data": {
      "text/plain": [
       "Action         251\n",
       "Adventure      135\n",
       "Animation       42\n",
       "Children's     122\n",
       "Comedy         505\n",
       "Crime          109\n",
       "Documentary     50\n",
       "Drama          725\n",
       "Fantasy         22\n",
       "Film-Noir       24\n",
       "Horror          92\n",
       "Musical         56\n",
       "Mystery         61\n",
       "Romance        247\n",
       "Sci-Fi         101\n",
       "Thriller       251\n",
       "War             71\n",
       "Western         27\n",
       "dtype: int64"
      ]
     },
     "execution_count": 151,
     "metadata": {},
     "output_type": "execute_result"
    }
   ],
   "source": [
    "df_movie.drop([\"movie id\",\n",
    "               \"movie title\",\n",
    "               \"release date\",\n",
    "               \"video release date\",\n",
    "               \"IMDb URL\",\n",
    "               \"unknown\"],axis=1).sum(axis = 0, skipna = True)"
   ]
  },
  {
   "cell_type": "code",
   "execution_count": 2,
   "metadata": {},
   "outputs": [
    {
     "ename": "NameError",
     "evalue": "name 'pd' is not defined",
     "output_type": "error",
     "traceback": [
      "\u001b[1;31m---------------------------------------------------------------------------\u001b[0m",
      "\u001b[1;31mNameError\u001b[0m                                 Traceback (most recent call last)",
      "\u001b[1;32m<ipython-input-2-eef4607b3736>\u001b[0m in \u001b[0;36m<module>\u001b[1;34m\u001b[0m\n\u001b[1;32m----> 1\u001b[1;33m df = pd.merge(pd.merge(df_data,\n\u001b[0m\u001b[0;32m      2\u001b[0m                   df_user[[\"user id\",\n\u001b[0;32m      3\u001b[0m                            \u001b[1;34m\"age\"\u001b[0m\u001b[1;33m,\u001b[0m\u001b[1;33m\u001b[0m\u001b[1;33m\u001b[0m\u001b[0m\n\u001b[0;32m      4\u001b[0m                            \u001b[1;34m\"gender\"\u001b[0m\u001b[1;33m,\u001b[0m\u001b[1;33m\u001b[0m\u001b[1;33m\u001b[0m\u001b[0m\n\u001b[0;32m      5\u001b[0m                            \"occupation\"]],\n",
      "\u001b[1;31mNameError\u001b[0m: name 'pd' is not defined"
     ]
    }
   ],
   "source": [
    "df = pd.merge(pd.merge(df_data,\n",
    "                  df_user[[\"user id\",\n",
    "                           \"age\",\n",
    "                           \"gender\",\n",
    "                           \"occupation\"]],\n",
    "                  on='user id',\n",
    "                  how='left'),\n",
    "              df_movie.drop(['IMDb URL'],axis=1),\n",
    "              left_on = 'item id',\n",
    "              right_on = 'movie id',\n",
    "              how ='left')\n",
    "              "
   ]
  },
  {
   "cell_type": "code",
   "execution_count": null,
   "metadata": {},
   "outputs": [],
   "source": [
    "df.head()"
   ]
  },
  {
   "cell_type": "code",
   "execution_count": 1,
   "metadata": {},
   "outputs": [
    {
     "ename": "NameError",
     "evalue": "name 'df' is not defined",
     "output_type": "error",
     "traceback": [
      "\u001b[1;31m---------------------------------------------------------------------------\u001b[0m",
      "\u001b[1;31mNameError\u001b[0m                                 Traceback (most recent call last)",
      "\u001b[1;32m<ipython-input-1-07f2c50ea20f>\u001b[0m in \u001b[0;36m<module>\u001b[1;34m\u001b[0m\n\u001b[0;32m      7\u001b[0m     \u001b[1;32mreturn\u001b[0m \u001b[0mstr\u001b[0m\u001b[1;33m(\u001b[0m\u001b[0mrow\u001b[0m\u001b[1;33m[\u001b[0m\u001b[1;34m'release date'\u001b[0m\u001b[1;33m]\u001b[0m\u001b[1;33m)\u001b[0m\u001b[1;33m[\u001b[0m\u001b[1;33m:\u001b[0m\u001b[1;36m2\u001b[0m\u001b[1;33m]\u001b[0m\u001b[1;33m\u001b[0m\u001b[1;33m\u001b[0m\u001b[0m\n\u001b[0;32m      8\u001b[0m \u001b[1;33m\u001b[0m\u001b[0m\n\u001b[1;32m----> 9\u001b[1;33m \u001b[0mdf\u001b[0m\u001b[1;33m[\u001b[0m\u001b[1;34m'release_year'\u001b[0m\u001b[1;33m]\u001b[0m \u001b[1;33m=\u001b[0m  \u001b[0mdf\u001b[0m\u001b[1;33m.\u001b[0m\u001b[0mapply\u001b[0m\u001b[1;33m(\u001b[0m\u001b[1;32mlambda\u001b[0m \u001b[0mrow\u001b[0m\u001b[1;33m:\u001b[0m \u001b[0mrelease_year\u001b[0m\u001b[1;33m(\u001b[0m\u001b[0mrow\u001b[0m\u001b[1;33m)\u001b[0m\u001b[1;33m,\u001b[0m \u001b[0maxis\u001b[0m\u001b[1;33m=\u001b[0m\u001b[1;36m1\u001b[0m\u001b[1;33m)\u001b[0m\u001b[1;33m\u001b[0m\u001b[1;33m\u001b[0m\u001b[0m\n\u001b[0m\u001b[0;32m     10\u001b[0m \u001b[0mdf\u001b[0m\u001b[1;33m[\u001b[0m\u001b[1;34m'release_year'\u001b[0m\u001b[1;33m]\u001b[0m \u001b[1;33m=\u001b[0m \u001b[0mdf\u001b[0m\u001b[1;33m[\u001b[0m\u001b[1;34m'release_year'\u001b[0m\u001b[1;33m]\u001b[0m\u001b[1;33m.\u001b[0m\u001b[0mastype\u001b[0m\u001b[1;33m(\u001b[0m\u001b[0mint\u001b[0m\u001b[1;33m)\u001b[0m\u001b[1;33m\u001b[0m\u001b[1;33m\u001b[0m\u001b[0m\n\u001b[0;32m     11\u001b[0m \u001b[0mdf\u001b[0m\u001b[1;33m[\u001b[0m\u001b[1;34m'release_month'\u001b[0m\u001b[1;33m]\u001b[0m \u001b[1;33m=\u001b[0m  \u001b[0mdf\u001b[0m\u001b[1;33m.\u001b[0m\u001b[0mapply\u001b[0m\u001b[1;33m(\u001b[0m\u001b[1;32mlambda\u001b[0m \u001b[0mrow\u001b[0m\u001b[1;33m:\u001b[0m \u001b[0mrelease_month\u001b[0m\u001b[1;33m(\u001b[0m\u001b[0mrow\u001b[0m\u001b[1;33m)\u001b[0m\u001b[1;33m,\u001b[0m \u001b[0maxis\u001b[0m\u001b[1;33m=\u001b[0m\u001b[1;36m1\u001b[0m\u001b[1;33m)\u001b[0m\u001b[1;33m\u001b[0m\u001b[1;33m\u001b[0m\u001b[0m\n",
      "\u001b[1;31mNameError\u001b[0m: name 'df' is not defined"
     ]
    }
   ],
   "source": [
    "def release_year(row):\n",
    "    return str(row['release date'])[-4:]\n",
    "    \n",
    "def release_month(row):\n",
    "    return str(row['release date'])[3:6]\n",
    "def release_date(row):\n",
    "    return str(row['release date'])[:2]\n",
    "\n",
    "df['release_year'] =  df.apply(lambda row: release_year(row), axis=1)\n",
    "\n",
    "df['release_month'] =  df.apply(lambda row: release_month(row), axis=1)\n",
    "df['release_day'] =  df.apply(lambda row: release_date(row), axis=1)\n",
    "\n",
    "df = df.drop(['release date'])"
   ]
  },
  {
   "cell_type": "code",
   "execution_count": 154,
   "metadata": {},
   "outputs": [],
   "source": [
    "df_job_genre = df[['occupation',\n",
    "                   'rating',\n",
    "                   \"Action\",\n",
    "                   \"Adventure\",\n",
    "                   \"Animation\",\n",
    "                   \"Children's\",\n",
    "                   \"Comedy\",\n",
    "                   \"Crime\",\n",
    "                   \"Documentary\",\n",
    "                   \"Drama\",\n",
    "                   \"Fantasy\",\n",
    "                   \"Film-Noir\",\n",
    "                   \"Horror\",\n",
    "                   \"Musical\",\n",
    "                   \"Mystery\",\n",
    "                   \"Romance\",\n",
    "                   \"Sci-Fi\",\n",
    "                   \"Thriller\",\n",
    "                   \"War\",\n",
    "                   \"Western\"]]\n"
   ]
  },
  {
   "cell_type": "code",
   "execution_count": 155,
   "metadata": {},
   "outputs": [],
   "source": [
    "def select_genre(row):\n",
    "    for key,value in row.items():\n",
    "        if value==1:\n",
    "            return key"
   ]
  },
  {
   "cell_type": "code",
   "execution_count": 156,
   "metadata": {},
   "outputs": [
    {
     "name": "stderr",
     "output_type": "stream",
     "text": [
      "D:\\Anaconda\\lib\\site-packages\\ipykernel_launcher.py:1: SettingWithCopyWarning: \n",
      "A value is trying to be set on a copy of a slice from a DataFrame.\n",
      "Try using .loc[row_indexer,col_indexer] = value instead\n",
      "\n",
      "See the caveats in the documentation: https://pandas.pydata.org/pandas-docs/stable/user_guide/indexing.html#returning-a-view-versus-a-copy\n",
      "  \"\"\"Entry point for launching an IPython kernel.\n",
      "D:\\Anaconda\\lib\\site-packages\\pandas\\core\\frame.py:3997: SettingWithCopyWarning: \n",
      "A value is trying to be set on a copy of a slice from a DataFrame\n",
      "\n",
      "See the caveats in the documentation: https://pandas.pydata.org/pandas-docs/stable/user_guide/indexing.html#returning-a-view-versus-a-copy\n",
      "  errors=errors,\n"
     ]
    }
   ],
   "source": [
    "df_job_genre['genre']= df_job_genre.apply(lambda row: select_genre(row.iloc[2:]),axis=1)\n",
    "df_job_genre.drop([\"Action\",\n",
    "                   \"Adventure\",\n",
    "                   \"Animation\",\n",
    "                   \"Children's\",\n",
    "                   \"Comedy\",\n",
    "                   \"Crime\",\n",
    "                   \"Documentary\",\n",
    "                   \"Drama\",\n",
    "                   \"Fantasy\",\n",
    "                   \"Film-Noir\",\n",
    "                   \"Horror\",\n",
    "                   \"Musical\",\n",
    "                   \"Mystery\",\n",
    "                   \"Romance\",\n",
    "                   \"Sci-Fi\",\n",
    "                   \"Thriller\",\n",
    "                   \"War\",\n",
    "                   \"Western\"],\n",
    "                 inplace=True,\n",
    "                 axis=1)"
   ]
  },
  {
   "cell_type": "code",
   "execution_count": 199,
   "metadata": {},
   "outputs": [],
   "source": [
    "df_job_genre_grouped = df_job_genre.groupby(['occupation','genre']).mean()"
   ]
  },
  {
   "cell_type": "code",
   "execution_count": 202,
   "metadata": {},
   "outputs": [],
   "source": [
    "df_favorite_genre = df_job_genre_grouped.reset_index(level='occupation').groupby('occupation')['rating'].idxmax().reset_index(name='favorite_genre')"
   ]
  },
  {
   "cell_type": "code",
   "execution_count": 203,
   "metadata": {},
   "outputs": [
    {
     "data": {
      "text/html": [
       "<div>\n",
       "<style scoped>\n",
       "    .dataframe tbody tr th:only-of-type {\n",
       "        vertical-align: middle;\n",
       "    }\n",
       "\n",
       "    .dataframe tbody tr th {\n",
       "        vertical-align: top;\n",
       "    }\n",
       "\n",
       "    .dataframe thead th {\n",
       "        text-align: right;\n",
       "    }\n",
       "</style>\n",
       "<table border=\"1\" class=\"dataframe\">\n",
       "  <thead>\n",
       "    <tr style=\"text-align: right;\">\n",
       "      <th></th>\n",
       "      <th>occupation</th>\n",
       "      <th>favorite_genre</th>\n",
       "    </tr>\n",
       "  </thead>\n",
       "  <tbody>\n",
       "    <tr>\n",
       "      <th>0</th>\n",
       "      <td>administrator</td>\n",
       "      <td>War</td>\n",
       "    </tr>\n",
       "    <tr>\n",
       "      <th>1</th>\n",
       "      <td>artist</td>\n",
       "      <td>Film-Noir</td>\n",
       "    </tr>\n",
       "    <tr>\n",
       "      <th>2</th>\n",
       "      <td>doctor</td>\n",
       "      <td>Film-Noir</td>\n",
       "    </tr>\n",
       "    <tr>\n",
       "      <th>3</th>\n",
       "      <td>educator</td>\n",
       "      <td>Film-Noir</td>\n",
       "    </tr>\n",
       "    <tr>\n",
       "      <th>4</th>\n",
       "      <td>engineer</td>\n",
       "      <td>Film-Noir</td>\n",
       "    </tr>\n",
       "  </tbody>\n",
       "</table>\n",
       "</div>"
      ],
      "text/plain": [
       "      occupation favorite_genre\n",
       "0  administrator            War\n",
       "1         artist      Film-Noir\n",
       "2         doctor      Film-Noir\n",
       "3       educator      Film-Noir\n",
       "4       engineer      Film-Noir"
      ]
     },
     "execution_count": 203,
     "metadata": {},
     "output_type": "execute_result"
    }
   ],
   "source": [
    "df_favorite_genre.head()"
   ]
  }
 ],
 "metadata": {
  "kernelspec": {
   "display_name": "Python 3",
   "language": "python",
   "name": "python3"
  },
  "language_info": {
   "codemirror_mode": {
    "name": "ipython",
    "version": 3
   },
   "file_extension": ".py",
   "mimetype": "text/x-python",
   "name": "python",
   "nbconvert_exporter": "python",
   "pygments_lexer": "ipython3",
   "version": "3.7.6"
  }
 },
 "nbformat": 4,
 "nbformat_minor": 4
}
