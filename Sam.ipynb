{
 "cells": [
  {
   "cell_type": "code",
   "execution_count": 1,
   "metadata": {},
   "outputs": [],
   "source": [
    "import pandas as pd"
   ]
  },
  {
   "cell_type": "code",
   "execution_count": 13,
   "metadata": {},
   "outputs": [],
   "source": [
    "#import of review data\n",
    "cols = [\"user id\",\"item id\",\"rating\",\"timestamp\"]\n",
    "#encoding using ISO-8859-1 is used because utf-8 does not support all the characters in movie names\n",
    "df_data = pd.read_csv(\"ml-100k/u.data\",sep=\"\\t\",names=cols,header=None,encoding=\"ISO-8859-1\")"
   ]
  },
  {
   "cell_type": "code",
   "execution_count": 14,
   "metadata": {},
   "outputs": [
    {
     "name": "stdout",
     "output_type": "stream",
     "text": [
      "   user id  item id  rating  timestamp\n",
      "0      196      242       3  881250949\n",
      "1      186      302       3  891717742\n",
      "2       22      377       1  878887116\n",
      "3      244       51       2  880606923\n",
      "4      166      346       1  886397596\n"
     ]
    }
   ],
   "source": [
    "#verifying the sucessful import of review data\n",
    "print(df_data.head())"
   ]
  },
  {
   "cell_type": "code",
   "execution_count": 15,
   "metadata": {},
   "outputs": [],
   "source": [
    "#import of moviedata\n",
    "cols = [\"movie id \",\" movie title \",\" release date \",\" video release date \",\"IMDb URL \",\" unknown \",\n",
    "        \" Action \",\" Adventure \",\" Animation \",\"Children's \",\" Comedy \",\" Crime \",\" Documentary \",\n",
    "        \" Drama \",\" Fantasy \",\"Film-Noir \",\" Horror \",\" Musical \",\" Mystery \",\" Romance \",\" Sci-Fi \",\n",
    "        \"Thriller \",\" War \",\" Western \"]\n",
    "\n",
    "df_movie = pd.read_csv(\"ml-100k/u.item\",sep=\"|\",names=cols,header=None,encoding=\"ISO-8859-1\")"
   ]
  },
  {
   "cell_type": "code",
   "execution_count": 16,
   "metadata": {},
   "outputs": [
    {
     "name": "stdout",
     "output_type": "stream",
     "text": [
      "   movie id        movie title   release date    video release date   \\\n",
      "0          1   Toy Story (1995)    01-Jan-1995                   NaN   \n",
      "1          2   GoldenEye (1995)    01-Jan-1995                   NaN   \n",
      "2          3  Four Rooms (1995)    01-Jan-1995                   NaN   \n",
      "3          4  Get Shorty (1995)    01-Jan-1995                   NaN   \n",
      "4          5     Copycat (1995)    01-Jan-1995                   NaN   \n",
      "\n",
      "                                           IMDb URL    unknown    Action   \\\n",
      "0  http://us.imdb.com/M/title-exact?Toy%20Story%2...          0         0   \n",
      "1  http://us.imdb.com/M/title-exact?GoldenEye%20(...          0         1   \n",
      "2  http://us.imdb.com/M/title-exact?Four%20Rooms%...          0         0   \n",
      "3  http://us.imdb.com/M/title-exact?Get%20Shorty%...          0         1   \n",
      "4  http://us.imdb.com/M/title-exact?Copycat%20(1995)          0         0   \n",
      "\n",
      "    Adventure    Animation   Children's   ...   Fantasy   Film-Noir   \\\n",
      "0            0            1            1  ...          0           0   \n",
      "1            1            0            0  ...          0           0   \n",
      "2            0            0            0  ...          0           0   \n",
      "3            0            0            0  ...          0           0   \n",
      "4            0            0            0  ...          0           0   \n",
      "\n",
      "    Horror    Musical    Mystery    Romance    Sci-Fi   Thriller    War   \\\n",
      "0         0          0          0          0         0          0      0   \n",
      "1         0          0          0          0         0          1      0   \n",
      "2         0          0          0          0         0          1      0   \n",
      "3         0          0          0          0         0          0      0   \n",
      "4         0          0          0          0         0          1      0   \n",
      "\n",
      "    Western   \n",
      "0          0  \n",
      "1          0  \n",
      "2          0  \n",
      "3          0  \n",
      "4          0  \n",
      "\n",
      "[5 rows x 24 columns]\n"
     ]
    }
   ],
   "source": [
    "#verifying the sucessful import of movie data\n",
    "print(df_movie.head())"
   ]
  },
  {
   "cell_type": "code",
   "execution_count": 26,
   "metadata": {},
   "outputs": [],
   "source": [
    "#import of user data\n",
    "cols = [\"user id\",\"age\",\"gender\",\"occupation\",\"zip code\"]\n",
    "df_user = pd.read_csv(\"ml-100k/u.user\",sep=\"|\",names=cols,header=None,encoding=\"ISO-8859-1\")"
   ]
  },
  {
   "cell_type": "code",
   "execution_count": 27,
   "metadata": {},
   "outputs": [
    {
     "name": "stdout",
     "output_type": "stream",
     "text": [
      "   user id  age gender  occupation zip code\n",
      "0        1   24      M  technician    85711\n",
      "1        2   53      F       other    94043\n",
      "2        3   23      M      writer    32067\n",
      "3        4   24      M  technician    43537\n",
      "4        5   33      F       other    15213\n"
     ]
    }
   ],
   "source": [
    "#verifying the sucessful import of user data\n",
    "print(df_user.head())"
   ]
  },
  {
   "cell_type": "code",
   "execution_count": 33,
   "metadata": {},
   "outputs": [
    {
     "data": {
      "text/plain": [
       "(6.0, 20.0]     109\n",
       "(23.0, 26.0]    105\n",
       "(35.0, 40.0]    100\n",
       "(31.0, 35.0]     98\n",
       "(29.0, 31.0]     96\n",
       "(40.0, 46.0]     94\n",
       "(46.0, 51.0]     93\n",
       "(20.0, 23.0]     92\n",
       "(51.0, 73.0]     85\n",
       "(26.0, 29.0]     71\n",
       "Name: age_group, dtype: int64"
      ]
     },
     "execution_count": 33,
     "metadata": {},
     "output_type": "execute_result"
    }
   ],
   "source": [
    "#frequency binning the ages into age groups as it will be easier for future analysis\n",
    "df_user['age_group'] = pd.qcut(df_user['age'],q=10,precision=0)\n",
    "\n",
    "#the bins are of unequal size due to repeating values in a bin\n",
    "df_user['age_group'].value_counts()"
   ]
  },
  {
   "cell_type": "code",
   "execution_count": null,
   "metadata": {},
   "outputs": [],
   "source": []
  }
 ],
 "metadata": {
  "kernelspec": {
   "display_name": "Python 3",
   "language": "python",
   "name": "python3"
  },
  "language_info": {
   "codemirror_mode": {
    "name": "ipython",
    "version": 3
   },
   "file_extension": ".py",
   "mimetype": "text/x-python",
   "name": "python",
   "nbconvert_exporter": "python",
   "pygments_lexer": "ipython3",
   "version": "3.7.6"
  }
 },
 "nbformat": 4,
 "nbformat_minor": 4
}
